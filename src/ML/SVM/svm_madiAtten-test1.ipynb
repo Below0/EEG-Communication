{
 "cells": [
  {
   "cell_type": "code",
   "execution_count": 1,
   "metadata": {
    "scrolled": true
   },
   "outputs": [
    {
     "name": "stderr",
     "output_type": "stream",
     "text": [
      "C:\\Users\\HAYOUNG LEE\\Anaconda3\\lib\\site-packages\\sklearn\\externals\\joblib\\__init__.py:15: DeprecationWarning: sklearn.externals.joblib is deprecated in 0.21 and will be removed in 0.23. Please import this functionality directly from joblib, which can be installed with: pip install joblib. If this warning is raised when loading pickled models, you may need to re-serialize those models with scikit-learn 0.21+.\n",
      "  warnings.warn(msg, category=DeprecationWarning)\n"
     ]
    },
    {
     "name": "stdout",
     "output_type": "stream",
     "text": [
      "make a classifier...\n",
      "fit starting...\n",
      "[LibSVM]Displaying decision function. Close window to continue.\n",
      "Accuracy: 84.58715596330275%\n"
     ]
    }
   ],
   "source": [
    "import sys\n",
    "import os\n",
    "import matplotlib.pyplot as plt\n",
    "import pandas as pd\n",
    "import numpy as np\n",
    "from sklearn import svm\n",
    "from sklearn.model_selection import train_test_split, GridSearchCV\n",
    "from sklearn.externals import joblib\n",
    "import pickle\n",
    "\n",
    "red_RGB = (1, 0, 0)\n",
    "blue_RGB = (0, 0, 1)\n",
    "data_colors = [red_RGB, blue_RGB]\n",
    "\n",
    "def read_points_file(filename):\n",
    "    points = []\n",
    "    with open(filename, \"r\") as f:\n",
    "        for point in f:\n",
    "            point = point.strip(\"\\n\").split(\",\")\n",
    "            points.append(point)\n",
    "        \n",
    "    return points\n",
    "\n",
    "def read_data(class_0_file, class_1_file):\n",
    "    points_label0 = read_points_file(class_0_file)\n",
    "    points_label1 = read_points_file(class_1_file)\n",
    "    points = points_label0 + points_label1\n",
    "    points = np.array(points)\n",
    "    \n",
    "    \n",
    "    label0, label1 = [0], [1]\n",
    "    num_of_label0, num_of_label1 = len(points_label0), len(points_label1)\n",
    "    labels = label0 * num_of_label0 + label1 * num_of_label1\n",
    "    \n",
    "    return (points, labels)\n",
    "\n",
    "\n",
    "def plot_data(X_train, y_train, X_test, y_test):\n",
    "  \n",
    "    X = np.concatenate((X_train, X_test))\n",
    "    y = np.concatenate((y_train, y_test))\n",
    "\n",
    "    colors = get_colors(y)\n",
    "    colors_train = get_colors(y_train)\n",
    "    colors_test = get_colors(y_test)\n",
    "\n",
    "    plt.figure(figsize=(12, 4), dpi=150)\n",
    "\n",
    "    # Plot all data plot\n",
    "    plt.subplot(131)\n",
    "    plt.axis('equal')\n",
    "    plt.scatter(X[:, 0], X[:, 1], c=colors, s=10, edgecolors=colors)\n",
    "    plt.title(\"Data (100%)\")\n",
    "\n",
    "\n",
    "    # training data plot\n",
    "    plt.subplot(132)\n",
    "    plt.axis('equal')\n",
    "    #plt.axis('off')\n",
    "    plt.scatter(X_train[:, 0], X_train[:, 1], c = colors_train, s = 10, edgecolors=colors_train)\n",
    "    plt.title(\"Training Data (80%)\")\n",
    "\n",
    "    # testing data plot\n",
    "    plt.subplot(133)\n",
    "    plt.axis('equal')\n",
    "    #plt.axis('off')\n",
    "    plt.scatter(X_test[:, 0], X_test[:, 1], c = colors_test, s = 10, edgecolors=colors_test)\n",
    "    plt.title(\"Test Data (20%)\")\n",
    "    plt.tight_layout()\n",
    "    plt.show()\n",
    "\n",
    "def get_colors(y):\n",
    "    return [data_colors[label] for label in y]\n",
    "\n",
    "def plot_decision_function(X_train, y_train, X_test, y_test, clf):\n",
    "    plt.figure(figsize=(8, 4), dpi=150)\n",
    "    plt.subplot(121)\n",
    "    plt.title(\"Training data\")\n",
    "    plot_decision_function_helper(X_train, y_train, clf)\n",
    "    plt.subplot(122)\n",
    "    plt.title(\"Test data\")\n",
    "    plot_decision_function_helper(X_test, y_test, clf, True)\n",
    "    plt.show()\n",
    "\n",
    "\n",
    "def plot_decision_function_helper(X, y, clf, show_only_decision_function = False):\n",
    "\n",
    "    colors = get_colors(y)\n",
    "    plt.axis('equal')\n",
    "    plt.tight_layout()\n",
    "    #plt.axis('off')\n",
    "\n",
    "    plt.scatter(X[:, 0], X[:, 1], c=colors, s=10, edgecolors=colors)\n",
    "    ax = plt.gca()\n",
    "    xlim = ax.get_xlim()\n",
    "    ylim = ax.get_ylim()\n",
    "\n",
    "    # Create grid to evaluate model\n",
    "    xx = np.linspace(xlim[0], xlim[1], 30)\n",
    "    yy = np.linspace(ylim[0], ylim[1], 30)\n",
    "    YY, XX = np.meshgrid(yy, xx)\n",
    "    xy = np.vstack([XX.ravel(), YY.ravel()]).T # xy.shape = (900, 2)\n",
    "    Z = clf.decision_function(xy).reshape(XX.shape)\n",
    "    # clf.decision_function(xy).shape = (900,)\n",
    "    # Z.shape = (30, 30)\n",
    "\n",
    "    if  show_only_decision_function:\n",
    "    # Plot decision boundary\n",
    "        ax.contour(XX, YY, Z, colors='k', levels=[0], alpha=0.5,\n",
    "                 linestyles=['-'])\n",
    "    else :\n",
    "    # Plot decision boundary and margins\n",
    "        ax.contour(XX, YY, Z, colors='k', levels=[-1, 0, 1], alpha=0.5,\n",
    "                 linestyles=['--', '-', '--'])\n",
    "    # Plot support vectors\n",
    "    #ax.scatter(clf.support_vectors_[:, 0], clf.support_vectors_[:, 1], s = 10,\n",
    "    #         linewidth=1, facecolors='k', c = 'k', label='Support Vectors')\n",
    "\n",
    "    #plt.legend(fontsize='small')\n",
    "    \n",
    "    \n",
    "# Read data\n",
    "x, labels = read_data(\"normalized_normal.csv\", \"normalized_scared.csv\")\n",
    "\n",
    "# Split data to train and test on 80-20 ratio\n",
    "X_train, X_test, y_train, y_test = train_test_split(x, labels, test_size = 0.2, random_state=0)\n",
    "\n",
    "\n",
    "# Plot data\n",
    "# plot_data(X_train, y_train, X_test, y_test)\n",
    "print(\"make a classifier...\")\n",
    "# make a classifier and fit on training data\n",
    "clf = svm.SVC(kernel='linear',C=10, verbose=True, cache_size=6000)\n",
    "print(\"fit starting...\")\n",
    "# Train classifier \n",
    "clf.fit(X_train, y_train)\n",
    "\n",
    "print(\"Displaying decision function. Close window to continue.\")  \n",
    "# Plot decision function on training and test data\n",
    "# plot_decision_function(X_train, y_train, X_test, y_test, clf)\n",
    "\n",
    "# Make predictions on unseen test data\n",
    "clf_predictions = clf.predict(X_test)\n",
    "print(\"Accuracy: {}%\".format(clf.score(X_test, y_test) * 100 ))"
   ]
  },
  {
   "cell_type": "code",
   "execution_count": 14,
   "metadata": {},
   "outputs": [
    {
     "data": {
      "text/plain": [
       "['object_01.pkl']"
      ]
     },
     "execution_count": 14,
     "metadata": {},
     "output_type": "execute_result"
    }
   ],
   "source": [
    "from sklearn.externals import joblib\n",
    "import pickle\n",
    "file_name = 'object_02.pkl' \n",
    "joblib.dump(clf, file_name) "
   ]
  },
  {
   "cell_type": "code",
   "execution_count": 2,
   "metadata": {},
   "outputs": [
    {
     "name": "stdout",
     "output_type": "stream",
     "text": [
      "Accuracy: 84.58715596330275%\n"
     ]
    }
   ],
   "source": [
    "clf_predictions = clf.predict(X_test)\n",
    "print(\"Accuracy: {}%\".format(clf.score(X_test, y_test) * 100 ))"
   ]
  },
  {
   "cell_type": "code",
   "execution_count": 20,
   "metadata": {},
   "outputs": [],
   "source": [
    "import pickle\n",
    "clf2 = joblib.load('object_01.pkl')"
   ]
  },
  {
   "cell_type": "code",
   "execution_count": 23,
   "metadata": {},
   "outputs": [
    {
     "name": "stdout",
     "output_type": "stream",
     "text": [
      "[0 0 0 0 0 0 0 0 0 0 1 0 0 1 1 0 0 0 0 0 1 1 0 0 0 1 0 1 0 0 0 0 0 0 0 0 0\n",
      " 0 0 0 0 1 0 0 0 0 0 0 1 0 0 1 1 0 1 1 0 0 0 0 1 1 1 0 0 0 0 0 1 0 0 1 0 1\n",
      " 0 0 0 0 0 0 0 0 1 0 0 0 0 0 1 0 0 1 0 0 1 0 0 0 0 0 0 1 0 1 0 0 0 0 0 0 0\n",
      " 0 1 0 0 0 0 0 0 0 1 0 1 0 0 1 0 1 0 0 0 0 0 1 0 0 0 0 0 0 0 0 0 0 0 0 0 0\n",
      " 0 0 0 0 0 0 1 0 0 0 1 0 0 0 0 0 0 0 0 0 1 0 0 0 0 1 1 0 0 0 0 1 0 0 0 0 0\n",
      " 0 1 0 1 1 0 0 0 0 0 0 0 0 0 0 0 0 0 0 1 0 1 1 0 1 0 0 0 1 0 0 0 0 0 1 0 0\n",
      " 1 0 0 0 0 0 0 0 0 1 0 0 1 0 0 1 0 1 0 0 0 0 0 0 0 0 0 0 1 0 0 0 1 0 0 0 0\n",
      " 0]\n",
      "Accuracy: 78.84615384615384%\n"
     ]
    }
   ],
   "source": [
    "clf_predictions = clf2.predict(X_test)\n",
    "print(\"Accuracy: {}%\".format(clf2.score(X_test, y_test) * 100 ))"
   ]
  },
  {
   "cell_type": "code",
   "execution_count": null,
   "metadata": {},
   "outputs": [],
   "source": []
  }
 ],
 "metadata": {
  "kernelspec": {
   "display_name": "Python 3",
   "language": "python",
   "name": "python3"
  },
  "language_info": {
   "codemirror_mode": {
    "name": "ipython",
    "version": 3
   },
   "file_extension": ".py",
   "mimetype": "text/x-python",
   "name": "python",
   "nbconvert_exporter": "python",
   "pygments_lexer": "ipython3",
   "version": "3.6.9"
  }
 },
 "nbformat": 4,
 "nbformat_minor": 2
}
