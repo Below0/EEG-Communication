{
 "cells": [
  {
   "cell_type": "code",
   "execution_count": 1,
   "metadata": {},
   "outputs": [
    {
     "name": "stderr",
     "output_type": "stream",
     "text": [
      "Using TensorFlow backend.\n"
     ]
    }
   ],
   "source": [
    "from keras.models import Sequential\n",
    "from keras.utils import np_utils\n",
    "from keras.layers.core import Dense, Dropout, Activation\n",
    "from keras.callbacks import EarlyStopping\n",
    "import pandas as pd, numpy as np\n",
    "from sklearn.preprocessing import RobustScaler\n",
    "from sklearn.model_selection import train_test_split, GridSearchCV\n",
    "import random\n",
    "\n",
    "test1=pd.read_csv('newemer.csv', header=None)\n",
    "test2=pd.read_csv('newnor.csv', header=None)\n",
    "test1[\"label\"] = \"unsafe\"\n",
    "test2[\"label\"] = \"safe\""
   ]
  },
  {
   "cell_type": "code",
   "execution_count": 2,
   "metadata": {},
   "outputs": [
    {
     "name": "stdout",
     "output_type": "stream",
     "text": [
      "5674 5674\n"
     ]
    }
   ],
   "source": [
    "csv=pd.concat([test1, test2])\n",
    "bclass = {'safe':[1, 0], 'unsafe':[0, 1]}\n",
    "y = np.empty((len(csv), 2))\n",
    "for i, v in enumerate(csv['label']):\n",
    "    y[i] = bclass[v]\n",
    "\n",
    "del csv['label']\n",
    "#X = csv[['delta','theta','lowAlpha','highAlpha','lowBeta','highBeta','lowGamma','midGamma','Meditation','Attention']].to_numpy()\n",
    "X=csv.to_numpy()\n",
    "\n",
    "scaler = RobustScaler()\n",
    "scaler.fit(X)\n",
    "X = scaler.transform(X)\n",
    "#print(X_rob)\n",
    "# np.mean(X_rob), np.std(X_rob)\n",
    "\n",
    "tmp = [[x,y_tmp] for x, y_tmp in zip(X, y)]\n",
    "random.shuffle(tmp)\n",
    "X= [n[0] for n in tmp]\n",
    "y = [n[1] for n in tmp]\n",
    "\n",
    "X = np.asarray(X, dtype=np.float32)\n",
    "y = np.asarray(y, dtype=np.float32)\n",
    "print(len(X), len(y))"
   ]
  },
  {
   "cell_type": "code",
   "execution_count": 3,
   "metadata": {},
   "outputs": [
    {
     "name": "stdout",
     "output_type": "stream",
     "text": [
      "(4799, 10) (4799, 2) (874, 10) (874, 2)\n"
     ]
    }
   ],
   "source": [
    "x_train, y_train = X[1:4800], y[1:4800]\n",
    "x_test, y_test = X[4800:], y[4800:]\n",
    "# X_train, X_test, y_train, y_test = train_test_split(X, y, test_size = 0.3, random_state=0)\n",
    "print(x_train.shape, y_train.shape, x_test.shape, y_test.shape)"
   ]
  },
  {
   "cell_type": "code",
   "execution_count": 4,
   "metadata": {},
   "outputs": [],
   "source": [
    "model = Sequential()\n",
    "\"\"\"\n",
    "model.add(Convolution2D(32, 3, 3,\n",
    "                        border_mode='same',\n",
    "                        input_shape=X_train.shape[1:]))\n",
    "                        \"\"\"\n",
    "model.add(Dense(512, input_shape=(10,)))\n",
    "model.add(Activation('relu'))\n",
    "model.add(Dropout(0.1))\n",
    "\n",
    "model.add(Dense(512, activation='relu'))\n",
    "# model.add(Dense(256, activation='relu'))\n",
    "model.add(Dropout(0.1))\n",
    "\n",
    "model.add(Dense(2, activation='sigmoid'))\n",
    "\n",
    "model.compile(\n",
    "    loss='binary_crossentropy',\n",
    "    optimizer='rmsprop',\n",
    "    metrics=['accuracy']\n",
    ")"
   ]
  },
  {
   "cell_type": "code",
   "execution_count": 10,
   "metadata": {},
   "outputs": [
    {
     "name": "stdout",
     "output_type": "stream",
     "text": [
      "Train on 4799 samples, validate on 874 samples\n",
      "Epoch 1/10\n",
      " - 0s - loss: 0.1279 - accuracy: 0.9538 - val_loss: 0.1897 - val_accuracy: 0.9382\n",
      "Epoch 2/10\n",
      " - 0s - loss: 0.1263 - accuracy: 0.9550 - val_loss: 0.2338 - val_accuracy: 0.9245\n",
      "Epoch 3/10\n",
      " - 0s - loss: 0.1236 - accuracy: 0.9544 - val_loss: 0.2006 - val_accuracy: 0.9336\n",
      "Epoch 4/10\n",
      " - 0s - loss: 0.1237 - accuracy: 0.9543 - val_loss: 0.1927 - val_accuracy: 0.9371\n",
      "Epoch 5/10\n",
      " - 0s - loss: 0.1201 - accuracy: 0.9581 - val_loss: 0.2106 - val_accuracy: 0.9314\n",
      "Epoch 6/10\n",
      " - 0s - loss: 0.1230 - accuracy: 0.9570 - val_loss: 0.1947 - val_accuracy: 0.9354\n",
      "Epoch 7/10\n",
      " - 0s - loss: 0.1181 - accuracy: 0.9579 - val_loss: 0.2077 - val_accuracy: 0.9314\n",
      "Epoch 8/10\n",
      " - 0s - loss: 0.1210 - accuracy: 0.9568 - val_loss: 0.2063 - val_accuracy: 0.9319\n",
      "Epoch 9/10\n",
      " - 0s - loss: 0.1198 - accuracy: 0.9547 - val_loss: 0.2021 - val_accuracy: 0.9416\n",
      "Epoch 10/10\n",
      " - 0s - loss: 0.1187 - accuracy: 0.9583 - val_loss: 0.2048 - val_accuracy: 0.9359\n"
     ]
    }
   ],
   "source": [
    "#모델 학습시키기\n",
    "hist = model.fit(x_train, y_train, epochs=30, \n",
    "                 batch_size=128, validation_data=(x_test, y_test),verbose=2)"
   ]
  },
  {
   "cell_type": "code",
   "execution_count": 11,
   "metadata": {},
   "outputs": [
    {
     "data": {
      "image/png": "[encoded data removed]",
      "text/plain": [
       "<Figure size 432x288 with 1 Axes>"
      ]
     },
     "metadata": {
      "needs_background": "light"
     },
     "output_type": "display_data"
    }
   ],
   "source": [
    "import matplotlib.pyplot as plt\n",
    "acc = hist.history['accuracy']\n",
    "val_acc = hist.history['val_accuracy']\n",
    "loss = hist.history['loss']\n",
    "val_loss = hist.history['val_loss']\n",
    "\n",
    "epochs = range(1, len(acc) + 1)\n",
    "\n",
    "plt.plot(epochs, loss, 'bo', label='Training loss')\n",
    "\n",
    "plt.plot(epochs, val_loss, 'b', label='Validation loss')\n",
    "plt.title('Training and validation loss')\n",
    "plt.xlabel('Epochs')\n",
    "plt.ylabel('Loss')\n",
    "plt.legend()\n",
    "\n",
    "plt.draw()\n",
    "# fig1 = plt.gcf()\n",
    "plt.show()\n",
    "# fig1.savefig('fig1.png', dpi=100)"
   ]
  },
  {
   "cell_type": "code",
   "execution_count": 12,
   "metadata": {},
   "outputs": [
    {
     "data": {
      "image/png": "[encoded data removed]",
      "text/plain": [
       "<Figure size 432x288 with 1 Axes>"
      ]
     },
     "metadata": {
      "needs_background": "light"
     },
     "output_type": "display_data"
    }
   ],
   "source": [
    "plt.clf()   # 그래프를 초기화합니다\n",
    "\n",
    "plt.plot(epochs, acc, 'bo', label='Training acc')\n",
    "plt.plot(epochs, val_acc, 'b', label='Validation acc')\n",
    "plt.title('Training and validation accuracy')\n",
    "plt.xlabel('Epochs')\n",
    "plt.ylabel('Accuracy')\n",
    "plt.legend()\n",
    "\n",
    "fig2 = plt.gcf()\n",
    "\n",
    "plt.draw()"
   ]
  },
  {
   "cell_type": "code",
   "execution_count": 13,
   "metadata": {},
   "outputs": [],
   "source": [
    "dat=pd.read_csv('normal_train.csv')\n",
    "\n",
    "# dat.drop(['Unnamed: 0'], axis=1, inplace=True)\n",
    "# print(dat)\n",
    "X = dat.to_numpy()\n",
    "X = scaler.transform(X)\n",
    "xhat = X[0:1]\n",
    "res = {\n",
    "    \"total\":len(X),\n",
    "    \"safe\":0,\n",
    "    \"emergency\":0\n",
    "}\n",
    "for i in range(0,len(X)):\n",
    "    yhat = model.predict_classes(X[i:i+1])\n",
    "    if yhat == [0]:\n",
    "        res[\"safe\"]+=1\n",
    "    else :\n",
    "        res[\"emergency\"]+=1\n"
   ]
  },
  {
   "cell_type": "code",
   "execution_count": 14,
   "metadata": {},
   "outputs": [
    {
     "name": "stdout",
     "output_type": "stream",
     "text": [
      "{'total': 6303, 'safe': 6032, 'emergency': 271}\n",
      "safe: 95.70046009836585%\n"
     ]
    }
   ],
   "source": [
    "print(res)\n",
    "print(\"safe: \"+str(float(res[\"safe\"])/float(res[\"total\"])*100)+\"%\")"
   ]
  },
  {
   "cell_type": "code",
   "execution_count": 33,
   "metadata": {},
   "outputs": [],
   "source": [
    "model_json = model.to_json()\n",
    "with open(\"model.json\", \"w\") as json_file : \n",
    "    json_file.write(model_json)"
   ]
  },
  {
   "cell_type": "code",
   "execution_count": 46,
   "metadata": {},
   "outputs": [],
   "source": [
    "model.save(\"eeg_model2.h5\")"
   ]
  },
  {
   "cell_type": "code",
   "execution_count": 47,
   "metadata": {},
   "outputs": [
    {
     "name": "stderr",
     "output_type": "stream",
     "text": [
      "C:\\Users\\HAYOUNG LEE\\Anaconda3\\lib\\site-packages\\sklearn\\externals\\joblib\\__init__.py:15: DeprecationWarning: sklearn.externals.joblib is deprecated in 0.21 and will be removed in 0.23. Please import this functionality directly from joblib, which can be installed with: pip install joblib. If this warning is raised when loading pickled models, you may need to re-serialize those models with scikit-learn 0.21+.\n",
      "  warnings.warn(msg, category=DeprecationWarning)\n"
     ]
    },
    {
     "data": {
      "text/plain": [
       "['robust_scaler.pkl']"
      ]
     },
     "execution_count": 47,
     "metadata": {},
     "output_type": "execute_result"
    }
   ],
   "source": [
    "from sklearn.externals import joblib \n",
    "# 객체를 pickled binary file 형태로 저장한다 \n",
    "file_name = 'robust_scaler.pkl' \n",
    "joblib.dump(scaler, file_name) "
   ]
  },
  {
   "cell_type": "code",
   "execution_count": null,
   "metadata": {},
   "outputs": [],
   "source": []
  }
 ],
 "metadata": {
  "kernelspec": {
   "display_name": "Python 3",
   "language": "python",
   "name": "python3"
  },
  "language_info": {
   "codemirror_mode": {
    "name": "ipython",
    "version": 3
   },
   "file_extension": ".py",
   "mimetype": "text/x-python",
   "name": "python",
   "nbconvert_exporter": "python",
   "pygments_lexer": "ipython3",
   "version": "3.6.9"
  }
 },
 "nbformat": 4,
 "nbformat_minor": 4
}
