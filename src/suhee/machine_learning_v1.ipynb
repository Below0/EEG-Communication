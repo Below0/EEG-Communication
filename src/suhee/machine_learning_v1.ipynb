{
 "cells": [
  {
   "cell_type": "code",
   "execution_count": 1,
   "metadata": {},
   "outputs": [],
   "source": [
    "import numpy as np\n",
    "import pandas as pd\n",
    "import matplotlib.pyplot as plt\n",
    "import seaborn as sns\n",
    "import warnings\n",
    "warnings.filterwarnings('ignore')\n",
    "%matplotlib inline"
   ]
  },
  {
   "cell_type": "code",
   "execution_count": 2,
   "metadata": {
    "scrolled": true
   },
   "outputs": [
    {
     "name": "stdout",
     "output_type": "stream",
     "text": [
      "   Unnamed: 0               Time    delta  theta  lowAlpha  highAlpha  \\\n",
      "0           7  2020.3.8.14.55.50   407200  76317     10084       1559   \n",
      "1           8  2020.3.8.14.55.51   732281  63321     18946      17329   \n",
      "2           9  2020.3.8.14.55.52  1016202  33016     84337      51552   \n",
      "3          10  2020.3.8.14.55.53  1206405  77753     12870      23332   \n",
      "4          11  2020.3.8.14.55.54   292169  16982     12701       3306   \n",
      "\n",
      "   lowBeta  highBeta  lowGamma  midGamma  Meditation  Attention  \n",
      "0     8026     10371      8693      4081          40         53  \n",
      "1    10451      8165      6768     13122          54         60  \n",
      "2    10841      7345      7734      2607          78         53  \n",
      "3    60177     21929     11005     12340          80         77  \n",
      "4     6373      3826      7219      5786          90         74  \n"
     ]
    },
    {
     "data": {
      "text/html": [
       "<div>\n",
       "<style scoped>\n",
       "    .dataframe tbody tr th:only-of-type {\n",
       "        vertical-align: middle;\n",
       "    }\n",
       "\n",
       "    .dataframe tbody tr th {\n",
       "        vertical-align: top;\n",
       "    }\n",
       "\n",
       "    .dataframe thead th {\n",
       "        text-align: right;\n",
       "    }\n",
       "</style>\n",
       "<table border=\"1\" class=\"dataframe\">\n",
       "  <thead>\n",
       "    <tr style=\"text-align: right;\">\n",
       "      <th></th>\n",
       "      <th>Unnamed: 0</th>\n",
       "      <th>Time</th>\n",
       "      <th>delta</th>\n",
       "      <th>theta</th>\n",
       "      <th>lowAlpha</th>\n",
       "      <th>highAlpha</th>\n",
       "      <th>lowBeta</th>\n",
       "      <th>highBeta</th>\n",
       "      <th>lowGamma</th>\n",
       "      <th>midGamma</th>\n",
       "      <th>Meditation</th>\n",
       "      <th>Attention</th>\n",
       "    </tr>\n",
       "  </thead>\n",
       "  <tbody>\n",
       "    <tr>\n",
       "      <th>0</th>\n",
       "      <td>76</td>\n",
       "      <td>2020.3.8.16.3.0</td>\n",
       "      <td>714853</td>\n",
       "      <td>61789</td>\n",
       "      <td>19688</td>\n",
       "      <td>5458</td>\n",
       "      <td>3660</td>\n",
       "      <td>3032</td>\n",
       "      <td>961</td>\n",
       "      <td>1089</td>\n",
       "      <td>0</td>\n",
       "      <td>0</td>\n",
       "    </tr>\n",
       "    <tr>\n",
       "      <th>1</th>\n",
       "      <td>77</td>\n",
       "      <td>2020.3.8.16.3.1</td>\n",
       "      <td>208060</td>\n",
       "      <td>48743</td>\n",
       "      <td>958</td>\n",
       "      <td>13786</td>\n",
       "      <td>6474</td>\n",
       "      <td>2866</td>\n",
       "      <td>379</td>\n",
       "      <td>274</td>\n",
       "      <td>0</td>\n",
       "      <td>0</td>\n",
       "    </tr>\n",
       "    <tr>\n",
       "      <th>2</th>\n",
       "      <td>78</td>\n",
       "      <td>2020.3.8.16.3.2</td>\n",
       "      <td>822575</td>\n",
       "      <td>101091</td>\n",
       "      <td>19533</td>\n",
       "      <td>10140</td>\n",
       "      <td>9293</td>\n",
       "      <td>5857</td>\n",
       "      <td>1682</td>\n",
       "      <td>891</td>\n",
       "      <td>48</td>\n",
       "      <td>38</td>\n",
       "    </tr>\n",
       "    <tr>\n",
       "      <th>3</th>\n",
       "      <td>79</td>\n",
       "      <td>2020.3.8.16.3.3</td>\n",
       "      <td>348434</td>\n",
       "      <td>119757</td>\n",
       "      <td>16763</td>\n",
       "      <td>4502</td>\n",
       "      <td>5208</td>\n",
       "      <td>6529</td>\n",
       "      <td>3212</td>\n",
       "      <td>1075</td>\n",
       "      <td>47</td>\n",
       "      <td>37</td>\n",
       "    </tr>\n",
       "    <tr>\n",
       "      <th>4</th>\n",
       "      <td>80</td>\n",
       "      <td>2020.3.8.16.3.4</td>\n",
       "      <td>889419</td>\n",
       "      <td>24997</td>\n",
       "      <td>18112</td>\n",
       "      <td>5220</td>\n",
       "      <td>1782</td>\n",
       "      <td>4260</td>\n",
       "      <td>1127</td>\n",
       "      <td>1322</td>\n",
       "      <td>69</td>\n",
       "      <td>53</td>\n",
       "    </tr>\n",
       "  </tbody>\n",
       "</table>\n",
       "</div>"
      ],
      "text/plain": [
       "   Unnamed: 0             Time   delta   theta  lowAlpha  highAlpha  lowBeta  \\\n",
       "0          76  2020.3.8.16.3.0  714853   61789     19688       5458     3660   \n",
       "1          77  2020.3.8.16.3.1  208060   48743       958      13786     6474   \n",
       "2          78  2020.3.8.16.3.2  822575  101091     19533      10140     9293   \n",
       "3          79  2020.3.8.16.3.3  348434  119757     16763       4502     5208   \n",
       "4          80  2020.3.8.16.3.4  889419   24997     18112       5220     1782   \n",
       "\n",
       "   highBeta  lowGamma  midGamma  Meditation  Attention  \n",
       "0      3032       961      1089           0          0  \n",
       "1      2866       379       274           0          0  \n",
       "2      5857      1682       891          48         38  \n",
       "3      6529      3212      1075          47         37  \n",
       "4      4260      1127      1322          69         53  "
      ]
     },
     "execution_count": 2,
     "metadata": {},
     "output_type": "execute_result"
    }
   ],
   "source": [
    "train_df=pd.read_csv('Result_per_second.csv')\n",
    "train_df.head()\n",
    "print(train_df.head())\n",
    "train_df2=pd.read_csv('Result_game.csv')\n",
    "train_df2.head()"
   ]
  },
  {
   "cell_type": "code",
   "execution_count": 3,
   "metadata": {},
   "outputs": [
    {
     "name": "stdout",
     "output_type": "stream",
     "text": [
      "     delta  theta  lowAlpha  highAlpha  lowBeta  highBeta  lowGamma  midGamma  \\\n",
      "0   407200  76317     10084       1559     8026     10371      8693      4081   \n",
      "1   732281  63321     18946      17329    10451      8165      6768     13122   \n",
      "2  1016202  33016     84337      51552    10841      7345      7734      2607   \n",
      "3  1206405  77753     12870      23332    60177     21929     11005     12340   \n",
      "4   292169  16982     12701       3306     6373      3826      7219      5786   \n",
      "\n",
      "   Meditation  Attention   label  \n",
      "0          40         53  unsafe  \n",
      "1          54         60  unsafe  \n",
      "2          78         53  unsafe  \n",
      "3          80         77  unsafe  \n",
      "4          90         74  unsafe  \n",
      "    delta   theta  lowAlpha  highAlpha  lowBeta  highBeta  lowGamma  midGamma  \\\n",
      "0  714853   61789     19688       5458     3660      3032       961      1089   \n",
      "1  208060   48743       958      13786     6474      2866       379       274   \n",
      "2  822575  101091     19533      10140     9293      5857      1682       891   \n",
      "3  348434  119757     16763       4502     5208      6529      3212      1075   \n",
      "4  889419   24997     18112       5220     1782      4260      1127      1322   \n",
      "\n",
      "   Meditation  Attention label  \n",
      "0           0          0  safe  \n",
      "1           0          0  safe  \n",
      "2          48         38  safe  \n",
      "3          47         37  safe  \n",
      "4          69         53  safe  \n"
     ]
    }
   ],
   "source": [
    "train_df[\"label\"] = \"unsafe\"\n",
    "del train_df[\"Time\"]\n",
    "del train_df[\"Unnamed: 0\"]\n",
    "train_df2[\"label\"] = \"safe\"\n",
    "del train_df2[\"Time\"]\n",
    "del train_df2[\"Unnamed: 0\"]\n",
    "print(train_df.head())\n",
    "print(train_df2.head())\n"
   ]
  },
  {
   "cell_type": "code",
   "execution_count": 4,
   "metadata": {
    "scrolled": false
   },
   "outputs": [
    {
     "data": {
      "text/plain": [
       "<bound method NDFrame.describe of        delta   theta  lowAlpha  highAlpha  lowBeta  highBeta  lowGamma  \\\n",
       "0     407200   76317     10084       1559     8026     10371      8693   \n",
       "1     732281   63321     18946      17329    10451      8165      6768   \n",
       "2    1016202   33016     84337      51552    10841      7345      7734   \n",
       "3    1206405   77753     12870      23332    60177     21929     11005   \n",
       "4     292169   16982     12701       3306     6373      3826      7219   \n",
       "..       ...     ...       ...        ...      ...       ...       ...   \n",
       "149   335304   75848      4646       2103     6083      2557      1238   \n",
       "150   525772   57952     10584      22785    15602      8037      3054   \n",
       "151   185961   47104     16848       4867     2899       616      1458   \n",
       "152   415541  207870      5873      36415    29249     14261      9685   \n",
       "153    71138    6978      3533       1384      812      1239       579   \n",
       "\n",
       "     midGamma  Meditation  Attention   label  \n",
       "0        4081          40         53  unsafe  \n",
       "1       13122          54         60  unsafe  \n",
       "2        2607          78         53  unsafe  \n",
       "3       12340          80         77  unsafe  \n",
       "4        5786          90         74  unsafe  \n",
       "..        ...         ...        ...     ...  \n",
       "149       554          56         27  unsafe  \n",
       "150      4576          64         27  unsafe  \n",
       "151       515          61         17  unsafe  \n",
       "152      1884          50         21  unsafe  \n",
       "153       341          66         37  unsafe  \n",
       "\n",
       "[154 rows x 11 columns]>"
      ]
     },
     "execution_count": 4,
     "metadata": {},
     "output_type": "execute_result"
    }
   ],
   "source": [
    "train_df.describe"
   ]
  },
  {
   "cell_type": "code",
   "execution_count": 5,
   "metadata": {},
   "outputs": [],
   "source": [
    "train_df=pd.concat([train_df, train_df2])"
   ]
  },
  {
   "cell_type": "code",
   "execution_count": 6,
   "metadata": {},
   "outputs": [
    {
     "data": {
      "text/plain": [
       "<bound method NDFrame.describe of        delta  theta  lowAlpha  highAlpha  lowBeta  highBeta  lowGamma  \\\n",
       "0     407200  76317     10084       1559     8026     10371      8693   \n",
       "1     732281  63321     18946      17329    10451      8165      6768   \n",
       "2    1016202  33016     84337      51552    10841      7345      7734   \n",
       "3    1206405  77753     12870      23332    60177     21929     11005   \n",
       "4     292169  16982     12701       3306     6373      3826      7219   \n",
       "..       ...    ...       ...        ...      ...       ...       ...   \n",
       "824    97694  21289     10740       2795     1937      3477       264   \n",
       "825    78759  28449      1729       4317     3098       919       481   \n",
       "826   463274  62522     25839      35062    21324     14964     11121   \n",
       "827   372505  32811     18792       6416     2691     10383      4587   \n",
       "828   633684  56642      4186       9160     3000      4847       924   \n",
       "\n",
       "     midGamma  Meditation  Attention   label  \n",
       "0        4081          40         53  unsafe  \n",
       "1       13122          54         60  unsafe  \n",
       "2        2607          78         53  unsafe  \n",
       "3       12340          80         77  unsafe  \n",
       "4        5786          90         74  unsafe  \n",
       "..        ...         ...        ...     ...  \n",
       "824       525          41         54    safe  \n",
       "825       311          34         47    safe  \n",
       "826      2475          57         41    safe  \n",
       "827       551          57         47    safe  \n",
       "828       469          57         47    safe  \n",
       "\n",
       "[983 rows x 11 columns]>"
      ]
     },
     "execution_count": 6,
     "metadata": {},
     "output_type": "execute_result"
    }
   ],
   "source": [
    "train_df.describe"
   ]
  },
  {
   "cell_type": "code",
   "execution_count": 7,
   "metadata": {},
   "outputs": [
    {
     "data": {
      "text/plain": [
       "Text(0, 0.5, 'Class count')"
      ]
     },
     "execution_count": 7,
     "metadata": {},
     "output_type": "execute_result"
    },
    {
     "data": {
      "image/png": "[encoded data removed]",
      "text/plain": [
       "<Figure size 864x360 with 1 Axes>"
      ]
     },
     "metadata": {
      "needs_background": "light"
     },
     "output_type": "display_data"
    }
   ],
   "source": [
    "#class distribution from column label (Output is label)\n",
    "plt.figure(figsize=(12,5))\n",
    "sns.countplot(x=train_df.label, color='red')\n",
    "plt.title('Brain Wave Data', fontsize=14)\n",
    "plt.xlabel('Class Label', fontsize=14)\n",
    "plt.ylabel('Class count', fontsize=14)"
   ]
  },
  {
   "cell_type": "code",
   "execution_count": 8,
   "metadata": {},
   "outputs": [
    {
     "data": {
      "text/plain": [
       "delta         0\n",
       "theta         0\n",
       "lowAlpha      0\n",
       "highAlpha     0\n",
       "lowBeta       0\n",
       "highBeta      0\n",
       "lowGamma      0\n",
       "midGamma      0\n",
       "Meditation    0\n",
       "Attention     0\n",
       "label         0\n",
       "dtype: int64"
      ]
     },
     "execution_count": 8,
     "metadata": {},
     "output_type": "execute_result"
    }
   ],
   "source": [
    "#Null data\n",
    "train_df.isnull().sum()"
   ]
  },
  {
   "cell_type": "code",
   "execution_count": 9,
   "metadata": {},
   "outputs": [
    {
     "name": "stdout",
     "output_type": "stream",
     "text": [
      "0      unsafe\n",
      "1      unsafe\n",
      "2      unsafe\n",
      "3      unsafe\n",
      "4      unsafe\n",
      "        ...  \n",
      "824      safe\n",
      "825      safe\n",
      "826      safe\n",
      "827      safe\n",
      "828      safe\n",
      "Name: label, Length: 983, dtype: object\n"
     ]
    },
    {
     "data": {
      "text/html": [
       "<div>\n",
       "<style scoped>\n",
       "    .dataframe tbody tr th:only-of-type {\n",
       "        vertical-align: middle;\n",
       "    }\n",
       "\n",
       "    .dataframe tbody tr th {\n",
       "        vertical-align: top;\n",
       "    }\n",
       "\n",
       "    .dataframe thead th {\n",
       "        text-align: right;\n",
       "    }\n",
       "</style>\n",
       "<table border=\"1\" class=\"dataframe\">\n",
       "  <thead>\n",
       "    <tr style=\"text-align: right;\">\n",
       "      <th></th>\n",
       "      <th>delta</th>\n",
       "      <th>theta</th>\n",
       "      <th>lowAlpha</th>\n",
       "      <th>highAlpha</th>\n",
       "      <th>lowBeta</th>\n",
       "      <th>highBeta</th>\n",
       "      <th>lowGamma</th>\n",
       "      <th>midGamma</th>\n",
       "      <th>Meditation</th>\n",
       "      <th>Attention</th>\n",
       "    </tr>\n",
       "  </thead>\n",
       "  <tbody>\n",
       "    <tr>\n",
       "      <th>0</th>\n",
       "      <td>407200</td>\n",
       "      <td>76317</td>\n",
       "      <td>10084</td>\n",
       "      <td>1559</td>\n",
       "      <td>8026</td>\n",
       "      <td>10371</td>\n",
       "      <td>8693</td>\n",
       "      <td>4081</td>\n",
       "      <td>40</td>\n",
       "      <td>53</td>\n",
       "    </tr>\n",
       "    <tr>\n",
       "      <th>1</th>\n",
       "      <td>732281</td>\n",
       "      <td>63321</td>\n",
       "      <td>18946</td>\n",
       "      <td>17329</td>\n",
       "      <td>10451</td>\n",
       "      <td>8165</td>\n",
       "      <td>6768</td>\n",
       "      <td>13122</td>\n",
       "      <td>54</td>\n",
       "      <td>60</td>\n",
       "    </tr>\n",
       "    <tr>\n",
       "      <th>2</th>\n",
       "      <td>1016202</td>\n",
       "      <td>33016</td>\n",
       "      <td>84337</td>\n",
       "      <td>51552</td>\n",
       "      <td>10841</td>\n",
       "      <td>7345</td>\n",
       "      <td>7734</td>\n",
       "      <td>2607</td>\n",
       "      <td>78</td>\n",
       "      <td>53</td>\n",
       "    </tr>\n",
       "    <tr>\n",
       "      <th>3</th>\n",
       "      <td>1206405</td>\n",
       "      <td>77753</td>\n",
       "      <td>12870</td>\n",
       "      <td>23332</td>\n",
       "      <td>60177</td>\n",
       "      <td>21929</td>\n",
       "      <td>11005</td>\n",
       "      <td>12340</td>\n",
       "      <td>80</td>\n",
       "      <td>77</td>\n",
       "    </tr>\n",
       "    <tr>\n",
       "      <th>4</th>\n",
       "      <td>292169</td>\n",
       "      <td>16982</td>\n",
       "      <td>12701</td>\n",
       "      <td>3306</td>\n",
       "      <td>6373</td>\n",
       "      <td>3826</td>\n",
       "      <td>7219</td>\n",
       "      <td>5786</td>\n",
       "      <td>90</td>\n",
       "      <td>74</td>\n",
       "    </tr>\n",
       "  </tbody>\n",
       "</table>\n",
       "</div>"
      ],
      "text/plain": [
       "     delta  theta  lowAlpha  highAlpha  lowBeta  highBeta  lowGamma  midGamma  \\\n",
       "0   407200  76317     10084       1559     8026     10371      8693      4081   \n",
       "1   732281  63321     18946      17329    10451      8165      6768     13122   \n",
       "2  1016202  33016     84337      51552    10841      7345      7734      2607   \n",
       "3  1206405  77753     12870      23332    60177     21929     11005     12340   \n",
       "4   292169  16982     12701       3306     6373      3826      7219      5786   \n",
       "\n",
       "   Meditation  Attention  \n",
       "0          40         53  \n",
       "1          54         60  \n",
       "2          78         53  \n",
       "3          80         77  \n",
       "4          90         74  "
      ]
     },
     "execution_count": 9,
     "metadata": {},
     "output_type": "execute_result"
    }
   ],
   "source": [
    "label_df=train_df['label']\n",
    "print(label_df)\n",
    "train_df.drop('label', axis=1, inplace=True)\n",
    "train_df.head()"
   ]
  },
  {
   "cell_type": "code",
   "execution_count": 10,
   "metadata": {},
   "outputs": [
    {
     "data": {
      "text/html": [
       "<div>\n",
       "<style scoped>\n",
       "    .dataframe tbody tr th:only-of-type {\n",
       "        vertical-align: middle;\n",
       "    }\n",
       "\n",
       "    .dataframe tbody tr th {\n",
       "        vertical-align: top;\n",
       "    }\n",
       "\n",
       "    .dataframe thead th {\n",
       "        text-align: right;\n",
       "    }\n",
       "</style>\n",
       "<table border=\"1\" class=\"dataframe\">\n",
       "  <thead>\n",
       "    <tr style=\"text-align: right;\">\n",
       "      <th></th>\n",
       "      <th>delta</th>\n",
       "      <th>theta</th>\n",
       "      <th>lowAlpha</th>\n",
       "      <th>highAlpha</th>\n",
       "      <th>lowBeta</th>\n",
       "      <th>highBeta</th>\n",
       "      <th>lowGamma</th>\n",
       "      <th>midGamma</th>\n",
       "      <th>Meditation</th>\n",
       "      <th>Attention</th>\n",
       "    </tr>\n",
       "  </thead>\n",
       "  <tbody>\n",
       "    <tr>\n",
       "      <th>0</th>\n",
       "      <td>0.119776</td>\n",
       "      <td>0.047556</td>\n",
       "      <td>0.012312</td>\n",
       "      <td>0.003269</td>\n",
       "      <td>0.021452</td>\n",
       "      <td>0.012628</td>\n",
       "      <td>0.024637</td>\n",
       "      <td>0.036998</td>\n",
       "      <td>0.40</td>\n",
       "      <td>0.53</td>\n",
       "    </tr>\n",
       "    <tr>\n",
       "      <th>1</th>\n",
       "      <td>0.215828</td>\n",
       "      <td>0.039408</td>\n",
       "      <td>0.023256</td>\n",
       "      <td>0.038458</td>\n",
       "      <td>0.027984</td>\n",
       "      <td>0.009938</td>\n",
       "      <td>0.019177</td>\n",
       "      <td>0.119085</td>\n",
       "      <td>0.54</td>\n",
       "      <td>0.60</td>\n",
       "    </tr>\n",
       "    <tr>\n",
       "      <th>2</th>\n",
       "      <td>0.299718</td>\n",
       "      <td>0.020407</td>\n",
       "      <td>0.104008</td>\n",
       "      <td>0.114824</td>\n",
       "      <td>0.029035</td>\n",
       "      <td>0.008939</td>\n",
       "      <td>0.021917</td>\n",
       "      <td>0.023615</td>\n",
       "      <td>0.78</td>\n",
       "      <td>0.53</td>\n",
       "    </tr>\n",
       "    <tr>\n",
       "      <th>3</th>\n",
       "      <td>0.355918</td>\n",
       "      <td>0.048457</td>\n",
       "      <td>0.015753</td>\n",
       "      <td>0.051854</td>\n",
       "      <td>0.161928</td>\n",
       "      <td>0.026718</td>\n",
       "      <td>0.031196</td>\n",
       "      <td>0.111985</td>\n",
       "      <td>0.80</td>\n",
       "      <td>0.77</td>\n",
       "    </tr>\n",
       "    <tr>\n",
       "      <th>4</th>\n",
       "      <td>0.085788</td>\n",
       "      <td>0.010354</td>\n",
       "      <td>0.015544</td>\n",
       "      <td>0.007167</td>\n",
       "      <td>0.017000</td>\n",
       "      <td>0.004649</td>\n",
       "      <td>0.020456</td>\n",
       "      <td>0.052479</td>\n",
       "      <td>0.90</td>\n",
       "      <td>0.74</td>\n",
       "    </tr>\n",
       "    <tr>\n",
       "      <th>5</th>\n",
       "      <td>0.419584</td>\n",
       "      <td>0.005312</td>\n",
       "      <td>0.008443</td>\n",
       "      <td>0.026516</td>\n",
       "      <td>0.039408</td>\n",
       "      <td>0.009469</td>\n",
       "      <td>0.015029</td>\n",
       "      <td>0.023234</td>\n",
       "      <td>0.87</td>\n",
       "      <td>0.90</td>\n",
       "    </tr>\n",
       "    <tr>\n",
       "      <th>6</th>\n",
       "      <td>0.107200</td>\n",
       "      <td>0.637633</td>\n",
       "      <td>0.015619</td>\n",
       "      <td>0.051233</td>\n",
       "      <td>0.167555</td>\n",
       "      <td>0.093357</td>\n",
       "      <td>0.096411</td>\n",
       "      <td>0.249664</td>\n",
       "      <td>0.50</td>\n",
       "      <td>0.96</td>\n",
       "    </tr>\n",
       "    <tr>\n",
       "      <th>7</th>\n",
       "      <td>0.700364</td>\n",
       "      <td>0.053357</td>\n",
       "      <td>0.058109</td>\n",
       "      <td>0.054703</td>\n",
       "      <td>0.022944</td>\n",
       "      <td>0.005190</td>\n",
       "      <td>0.013378</td>\n",
       "      <td>0.035437</td>\n",
       "      <td>0.60</td>\n",
       "      <td>0.56</td>\n",
       "    </tr>\n",
       "    <tr>\n",
       "      <th>8</th>\n",
       "      <td>0.616960</td>\n",
       "      <td>0.324412</td>\n",
       "      <td>0.098055</td>\n",
       "      <td>0.080744</td>\n",
       "      <td>0.197998</td>\n",
       "      <td>0.053537</td>\n",
       "      <td>0.128160</td>\n",
       "      <td>0.250654</td>\n",
       "      <td>0.51</td>\n",
       "      <td>0.44</td>\n",
       "    </tr>\n",
       "    <tr>\n",
       "      <th>9</th>\n",
       "      <td>0.476234</td>\n",
       "      <td>0.133690</td>\n",
       "      <td>0.049624</td>\n",
       "      <td>0.018574</td>\n",
       "      <td>0.121192</td>\n",
       "      <td>0.016776</td>\n",
       "      <td>0.049834</td>\n",
       "      <td>0.144171</td>\n",
       "      <td>0.40</td>\n",
       "      <td>0.14</td>\n",
       "    </tr>\n",
       "    <tr>\n",
       "      <th>10</th>\n",
       "      <td>0.070102</td>\n",
       "      <td>0.034809</td>\n",
       "      <td>0.003023</td>\n",
       "      <td>0.008386</td>\n",
       "      <td>0.007351</td>\n",
       "      <td>0.004777</td>\n",
       "      <td>0.016221</td>\n",
       "      <td>0.035473</td>\n",
       "      <td>0.50</td>\n",
       "      <td>0.14</td>\n",
       "    </tr>\n",
       "    <tr>\n",
       "      <th>11</th>\n",
       "      <td>0.082261</td>\n",
       "      <td>0.181979</td>\n",
       "      <td>0.036615</td>\n",
       "      <td>0.205709</td>\n",
       "      <td>0.301757</td>\n",
       "      <td>0.029449</td>\n",
       "      <td>0.056790</td>\n",
       "      <td>0.253950</td>\n",
       "      <td>0.41</td>\n",
       "      <td>0.26</td>\n",
       "    </tr>\n",
       "    <tr>\n",
       "      <th>12</th>\n",
       "      <td>0.071333</td>\n",
       "      <td>0.016086</td>\n",
       "      <td>0.013868</td>\n",
       "      <td>0.032884</td>\n",
       "      <td>0.032736</td>\n",
       "      <td>0.008544</td>\n",
       "      <td>0.022413</td>\n",
       "      <td>0.016016</td>\n",
       "      <td>0.50</td>\n",
       "      <td>0.38</td>\n",
       "    </tr>\n",
       "    <tr>\n",
       "      <th>13</th>\n",
       "      <td>0.111616</td>\n",
       "      <td>0.055151</td>\n",
       "      <td>0.022040</td>\n",
       "      <td>0.027643</td>\n",
       "      <td>0.032520</td>\n",
       "      <td>0.023230</td>\n",
       "      <td>0.053510</td>\n",
       "      <td>0.095715</td>\n",
       "      <td>0.53</td>\n",
       "      <td>0.57</td>\n",
       "    </tr>\n",
       "    <tr>\n",
       "      <th>14</th>\n",
       "      <td>0.049857</td>\n",
       "      <td>0.008983</td>\n",
       "      <td>0.000998</td>\n",
       "      <td>0.008185</td>\n",
       "      <td>0.004213</td>\n",
       "      <td>0.000739</td>\n",
       "      <td>0.006272</td>\n",
       "      <td>0.009615</td>\n",
       "      <td>0.61</td>\n",
       "      <td>0.47</td>\n",
       "    </tr>\n",
       "    <tr>\n",
       "      <th>15</th>\n",
       "      <td>0.522526</td>\n",
       "      <td>0.110770</td>\n",
       "      <td>0.118847</td>\n",
       "      <td>0.126242</td>\n",
       "      <td>0.039437</td>\n",
       "      <td>0.033960</td>\n",
       "      <td>0.051241</td>\n",
       "      <td>0.082967</td>\n",
       "      <td>0.69</td>\n",
       "      <td>0.53</td>\n",
       "    </tr>\n",
       "    <tr>\n",
       "      <th>16</th>\n",
       "      <td>0.179246</td>\n",
       "      <td>0.071514</td>\n",
       "      <td>0.012526</td>\n",
       "      <td>0.041078</td>\n",
       "      <td>0.027012</td>\n",
       "      <td>0.018461</td>\n",
       "      <td>0.016172</td>\n",
       "      <td>0.027855</td>\n",
       "      <td>0.63</td>\n",
       "      <td>0.48</td>\n",
       "    </tr>\n",
       "    <tr>\n",
       "      <th>17</th>\n",
       "      <td>0.122077</td>\n",
       "      <td>0.040405</td>\n",
       "      <td>0.008467</td>\n",
       "      <td>0.008377</td>\n",
       "      <td>0.025474</td>\n",
       "      <td>0.005479</td>\n",
       "      <td>0.008490</td>\n",
       "      <td>0.029108</td>\n",
       "      <td>0.57</td>\n",
       "      <td>0.29</td>\n",
       "    </tr>\n",
       "    <tr>\n",
       "      <th>18</th>\n",
       "      <td>0.192709</td>\n",
       "      <td>0.145509</td>\n",
       "      <td>0.016852</td>\n",
       "      <td>0.072017</td>\n",
       "      <td>0.024016</td>\n",
       "      <td>0.020895</td>\n",
       "      <td>0.042852</td>\n",
       "      <td>0.095742</td>\n",
       "      <td>0.53</td>\n",
       "      <td>0.43</td>\n",
       "    </tr>\n",
       "    <tr>\n",
       "      <th>19</th>\n",
       "      <td>0.048186</td>\n",
       "      <td>0.110318</td>\n",
       "      <td>0.039285</td>\n",
       "      <td>0.032012</td>\n",
       "      <td>0.034179</td>\n",
       "      <td>0.042490</td>\n",
       "      <td>0.060682</td>\n",
       "      <td>0.084320</td>\n",
       "      <td>0.43</td>\n",
       "      <td>0.54</td>\n",
       "    </tr>\n",
       "  </tbody>\n",
       "</table>\n",
       "</div>"
      ],
      "text/plain": [
       "       delta     theta  lowAlpha  highAlpha   lowBeta  highBeta  lowGamma  \\\n",
       "0   0.119776  0.047556  0.012312   0.003269  0.021452  0.012628  0.024637   \n",
       "1   0.215828  0.039408  0.023256   0.038458  0.027984  0.009938  0.019177   \n",
       "2   0.299718  0.020407  0.104008   0.114824  0.029035  0.008939  0.021917   \n",
       "3   0.355918  0.048457  0.015753   0.051854  0.161928  0.026718  0.031196   \n",
       "4   0.085788  0.010354  0.015544   0.007167  0.017000  0.004649  0.020456   \n",
       "5   0.419584  0.005312  0.008443   0.026516  0.039408  0.009469  0.015029   \n",
       "6   0.107200  0.637633  0.015619   0.051233  0.167555  0.093357  0.096411   \n",
       "7   0.700364  0.053357  0.058109   0.054703  0.022944  0.005190  0.013378   \n",
       "8   0.616960  0.324412  0.098055   0.080744  0.197998  0.053537  0.128160   \n",
       "9   0.476234  0.133690  0.049624   0.018574  0.121192  0.016776  0.049834   \n",
       "10  0.070102  0.034809  0.003023   0.008386  0.007351  0.004777  0.016221   \n",
       "11  0.082261  0.181979  0.036615   0.205709  0.301757  0.029449  0.056790   \n",
       "12  0.071333  0.016086  0.013868   0.032884  0.032736  0.008544  0.022413   \n",
       "13  0.111616  0.055151  0.022040   0.027643  0.032520  0.023230  0.053510   \n",
       "14  0.049857  0.008983  0.000998   0.008185  0.004213  0.000739  0.006272   \n",
       "15  0.522526  0.110770  0.118847   0.126242  0.039437  0.033960  0.051241   \n",
       "16  0.179246  0.071514  0.012526   0.041078  0.027012  0.018461  0.016172   \n",
       "17  0.122077  0.040405  0.008467   0.008377  0.025474  0.005479  0.008490   \n",
       "18  0.192709  0.145509  0.016852   0.072017  0.024016  0.020895  0.042852   \n",
       "19  0.048186  0.110318  0.039285   0.032012  0.034179  0.042490  0.060682   \n",
       "\n",
       "    midGamma  Meditation  Attention  \n",
       "0   0.036998        0.40       0.53  \n",
       "1   0.119085        0.54       0.60  \n",
       "2   0.023615        0.78       0.53  \n",
       "3   0.111985        0.80       0.77  \n",
       "4   0.052479        0.90       0.74  \n",
       "5   0.023234        0.87       0.90  \n",
       "6   0.249664        0.50       0.96  \n",
       "7   0.035437        0.60       0.56  \n",
       "8   0.250654        0.51       0.44  \n",
       "9   0.144171        0.40       0.14  \n",
       "10  0.035473        0.50       0.14  \n",
       "11  0.253950        0.41       0.26  \n",
       "12  0.016016        0.50       0.38  \n",
       "13  0.095715        0.53       0.57  \n",
       "14  0.009615        0.61       0.47  \n",
       "15  0.082967        0.69       0.53  \n",
       "16  0.027855        0.63       0.48  \n",
       "17  0.029108        0.57       0.29  \n",
       "18  0.095742        0.53       0.43  \n",
       "19  0.084320        0.43       0.54  "
      ]
     },
     "execution_count": 10,
     "metadata": {},
     "output_type": "execute_result"
    }
   ],
   "source": [
    "from sklearn.preprocessing import MinMaxScaler\n",
    "scaler = MinMaxScaler()\n",
    "copy_df=train_df.copy()\n",
    "copy_df[:]=scaler.fit_transform(copy_df[:])\n",
    "copy_df.head(20)"
   ]
  },
  {
   "cell_type": "markdown",
   "metadata": {},
   "source": [
    "# Random Forest Classifier"
   ]
  },
  {
   "cell_type": "code",
   "execution_count": 11,
   "metadata": {},
   "outputs": [
    {
     "name": "stdout",
     "output_type": "stream",
     "text": [
      "Accuracy for Random Forest =  0.84143475572047\n",
      "Wall time: 3.08 s\n"
     ]
    }
   ],
   "source": [
    "%%time\n",
    "from sklearn.pipeline import Pipeline\n",
    "from sklearn.ensemble import RandomForestClassifier\n",
    "from sklearn.model_selection import cross_val_score, train_test_split\n",
    "\n",
    "model_randomForest=Pipeline(steps=[('random_forest', RandomForestClassifier())])\n",
    "scores=cross_val_score(model_randomForest, copy_df, label_df, cv=10, scoring='accuracy')\n",
    "print('Accuracy for Random Forest = ', scores.mean())"
   ]
  },
  {
   "cell_type": "markdown",
   "metadata": {},
   "source": [
    "###### Accuracy is good and total time taken is short (4.34 secs)\n"
   ]
  },
  {
   "cell_type": "markdown",
   "metadata": {},
   "source": [
    "# Logistic Regression Classifier"
   ]
  },
  {
   "cell_type": "code",
   "execution_count": 12,
   "metadata": {},
   "outputs": [
    {
     "name": "stdout",
     "output_type": "stream",
     "text": [
      "Accuracy for Logistic Regression=  0.8313028241599669\n",
      "Wall time: 494 ms\n"
     ]
    }
   ],
   "source": [
    "%%time\n",
    "\n",
    "from sklearn.pipeline import Pipeline\n",
    "from sklearn.preprocessing import StandardScaler\n",
    "from sklearn.linear_model import LogisticRegression\n",
    "from sklearn.model_selection import cross_val_score, train_test_split\n",
    "\n",
    "\n",
    "model_logisticRegression=Pipeline(steps=[('scalar', StandardScaler()),\n",
    "                                         ('log_reg', LogisticRegression(multi_class='multinomial', solver='saga', max_iter=200))])\n",
    "scores=cross_val_score(model_logisticRegression, copy_df, label_df, cv=10, scoring='accuracy')\n",
    "print('Accuracy for Logistic Regression= ', scores.mean())"
   ]
  },
  {
   "cell_type": "markdown",
   "metadata": {},
   "source": [
    "#### Accuracy less than Random Forest Classifier and time taken is higher"
   ]
  },
  {
   "cell_type": "markdown",
   "metadata": {},
   "source": [
    "# PCA "
   ]
  },
  {
   "cell_type": "code",
   "execution_count": 13,
   "metadata": {},
   "outputs": [
    {
     "name": "stdout",
     "output_type": "stream",
     "text": [
      "Explained variance ratio by Principal Component  1  :  0.5110398443173138\n",
      "Explained variance ratio by Principal Component  2  :  0.1360386643964578\n",
      "Explained variance ratio by Principal Component  3  :  0.10139849929647131\n",
      "Explained variance ratio by Principal Component  4  :  0.07526988937568362\n",
      "Explained variance ratio by Principal Component  5  :  0.04943322650614975\n",
      "Explained variance ratio by Principal Component  6  :  0.04195424122918691\n",
      "Explained variance ratio by Principal Component  7  :  0.029614438159652826\n",
      "Explained variance ratio by Principal Component  8  :  0.02758748355027443\n",
      "Explained variance ratio by Principal Component  9  :  0.02102652846858684\n",
      "Explained variance ratio by Principal Component  10  :  0.0066371847002225735\n"
     ]
    }
   ],
   "source": [
    "from sklearn.decomposition import PCA\n",
    "from sklearn.preprocessing import StandardScaler\n",
    "\n",
    "scaler=StandardScaler()\n",
    "scaled_df=scaler.fit_transform(copy_df)\n",
    "pca=PCA(n_components=10)\n",
    "pca_vectors=pca.fit_transform(scaled_df)\n",
    "for index, var in enumerate(pca.explained_variance_ratio_):\n",
    "    print(\"Explained variance ratio by Principal Component \", (index+1) ,\" : \" , var)"
   ]
  },
  {
   "cell_type": "code",
   "execution_count": 15,
   "metadata": {},
   "outputs": [
    {
     "data": {
      "image/png": "[encoded data removed]",
      "text/plain": [
       "<Figure size 1800x576 with 1 Axes>"
      ]
     },
     "metadata": {
      "needs_background": "light"
     },
     "output_type": "display_data"
    }
   ],
   "source": [
    "plt.figure(figsize=(25,8))\n",
    "sns.scatterplot(x=pca_vectors[:,0], y=pca_vectors[:,1],\n",
    "               hue=label_df)\n",
    "plt.title('PC V/s Class', fontsize=14)\n",
    "plt.xlabel('PC 1', fontsize=14)\n",
    "plt.ylabel('PC 2', fontsize=14)\n",
    "plt.xticks(rotation='vertical');"
   ]
  },
  {
   "cell_type": "code",
   "execution_count": 16,
   "metadata": {},
   "outputs": [
    {
     "name": "stdout",
     "output_type": "stream",
     "text": [
      "Accuracy for Logistic Regression : 0.8362605648319935\n",
      "Wall time: 169 ms\n"
     ]
    }
   ],
   "source": [
    "%%time\n",
    "\n",
    "from sklearn.pipeline import Pipeline\n",
    "from sklearn.preprocessing import StandardScaler\n",
    "from sklearn.linear_model import LogisticRegression\n",
    "from sklearn.model_selection import cross_val_score, train_test_split\n",
    "\n",
    "model_lg_pca=Pipeline(steps=[('scaler', StandardScaler()),\n",
    "                            ('pca', PCA(n_components=2)),\n",
    "                            ('log_reg', LogisticRegression(multi_class='multinomial', solver='saga',max_iter=200 ))])\n",
    "scores=cross_val_score(model_lg_pca, copy_df, label_df, cv=10, scoring='accuracy')\n",
    "print('Accuracy for Logistic Regression :', scores.mean())"
   ]
  },
  {
   "cell_type": "markdown",
   "metadata": {},
   "source": [
    "### Accuracy reduced but time improved sigificantly for Logistic Regression model"
   ]
  },
  {
   "cell_type": "code",
   "execution_count": 17,
   "metadata": {},
   "outputs": [],
   "source": [
    "# Taking 10 PCs and running the model "
   ]
  },
  {
   "cell_type": "code",
   "execution_count": 18,
   "metadata": {},
   "outputs": [
    {
     "name": "stdout",
     "output_type": "stream",
     "text": [
      "Accuracy for Logistic Regressionwith 10 PCs : 0.8302824159967017\n",
      "Wall time: 494 ms\n"
     ]
    }
   ],
   "source": [
    "%%time\n",
    "from sklearn.pipeline import Pipeline\n",
    "from sklearn.preprocessing import StandardScaler\n",
    "from sklearn.linear_model import LogisticRegression\n",
    "from sklearn.model_selection import cross_val_score, train_test_split\n",
    "\n",
    "model_lg_pca_10=Pipeline(steps=[('Scaler', StandardScaler()),\n",
    "                               ('pca', PCA(n_components=10)),\n",
    "                               ('log_reg', LogisticRegression(multi_class='multinomial', solver='saga', max_iter=200))])\n",
    "\n",
    "scores=cross_val_score(model_lg_pca_10, train_df, label_df, cv=10, scoring='accuracy')\n",
    "print('Accuracy for Logistic Regressionwith 10 PCs :', scores.mean())"
   ]
  },
  {
   "cell_type": "markdown",
   "metadata": {},
   "source": [
    "# Artifical Neural Network Classifier (ANN)"
   ]
  },
  {
   "cell_type": "code",
   "execution_count": null,
   "metadata": {},
   "outputs": [],
   "source": [
    "%%time\n",
    "\n",
    "from sklearn.pipeline import Pipeline\n",
    "from sklearn.preprocessing import StandardScaler\n",
    "from sklearn.neural_network import MLPClassifier\n",
    "from sklearn.model_selection import cross_val_score, train_test_split\n",
    "model_mlp=Pipeline(steps=[('scaler', StandardScaler()),\n",
    "                         ('mlp_classifier', MLPClassifier(hidden_layer_sizes=(1275, 637)))])\n",
    "scores=cross_val_score(model_mlp, copy_df, label_df, cv=10, scoring='accuracy')\n",
    "print('Accuracy for ANN Classifier: ', scores.mean())"
   ]
  }
 ],
 "metadata": {
  "kernelspec": {
   "display_name": "Python 3",
   "language": "python",
   "name": "python3"
  },
  "language_info": {
   "codemirror_mode": {
    "name": "ipython",
    "version": 3
   },
   "file_extension": ".py",
   "mimetype": "text/x-python",
   "name": "python",
   "nbconvert_exporter": "python",
   "pygments_lexer": "ipython3",
   "version": "3.6.10"
  }
 },
 "nbformat": 4,
 "nbformat_minor": 1
}
