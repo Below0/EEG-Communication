{
 "cells": [
  {
   "cell_type": "code",
   "execution_count": 66,
   "metadata": {},
   "outputs": [],
   "source": [
    "from keras.models import Sequential\n",
    "from keras.utils import np_utils\n",
    "from keras.layers.core import Dense, Dropout, Activation\n",
    "from keras.callbacks import EarlyStopping\n",
    "import pandas as pd, numpy as np\n",
    "from sklearn.preprocessing import RobustScaler\n",
    "from sklearn.model_selection import train_test_split, GridSearchCV\n",
    "import random\n",
    "\n",
    "test1=pd.read_csv('newemer.csv', header=None)\n",
    "test2=pd.read_csv('newnor.csv', header=None)\n",
    "test1[\"label\"] = \"unsafe\"\n",
    "test2[\"label\"] = \"safe\""
   ]
  },
  {
   "cell_type": "code",
   "execution_count": 67,
   "metadata": {},
   "outputs": [
    {
     "name": "stdout",
     "output_type": "stream",
     "text": [
      "5674 5674\n"
     ]
    }
   ],
   "source": [
    "csv=pd.concat([test1, test2])\n",
    "bclass = {'safe':[1, 0], 'unsafe':[0, 1]}\n",
    "y = np.empty((len(csv), 2))\n",
    "for i, v in enumerate(csv['label']):\n",
    "    y[i] = bclass[v]\n",
    "\n",
    "del csv['label']\n",
    "#X = csv[['delta','theta','lowAlpha','highAlpha','lowBeta','highBeta','lowGamma','midGamma','Meditation','Attention']].to_numpy()\n",
    "X=csv.to_numpy()\n",
    "\n",
    "scaler = RobustScaler()\n",
    "scaler.fit(X)\n",
    "X = scaler.transform(X)\n",
    "#print(X_rob)\n",
    "# np.mean(X_rob), np.std(X_rob)\n",
    "\n",
    "tmp = [[x,y_tmp] for x, y_tmp in zip(X, y)]\n",
    "random.shuffle(tmp)\n",
    "X= [n[0] for n in tmp]\n",
    "y = [n[1] for n in tmp]\n",
    "\n",
    "X = np.asarray(X, dtype=np.float32)\n",
    "y = np.asarray(y, dtype=np.float32)\n",
    "print(len(X), len(y))"
   ]
  },
  {
   "cell_type": "code",
   "execution_count": 68,
   "metadata": {},
   "outputs": [
    {
     "name": "stdout",
     "output_type": "stream",
     "text": [
      "(4799, 10) (4799, 2) (874, 10) (874, 2)\n"
     ]
    }
   ],
   "source": [
    "x_train, y_train = X[1:4800], y[1:4800]\n",
    "x_test, y_test = X[4800:], y[4800:]\n",
    "# X_train, X_test, y_train, y_test = train_test_split(X, y, test_size = 0.3, random_state=0)\n",
    "print(x_train.shape, y_train.shape, x_test.shape, y_test.shape)"
   ]
  },
  {
   "cell_type": "code",
   "execution_count": 69,
   "metadata": {},
   "outputs": [],
   "source": [
    "model = Sequential()\n",
    "\"\"\"\n",
    "model.add(Convolution2D(32, 3, 3,\n",
    "                        border_mode='same',\n",
    "                        input_shape=X_train.shape[1:]))\n",
    "                        \"\"\"\n",
    "model.add(Dense(512, input_shape=(10,)))\n",
    "model.add(Activation('relu'))\n",
    "model.add(Dropout(0.1))\n",
    "\n",
    "model.add(Dense(512, activation='relu'))\n",
    "model.add(Dropout(0.1))\n",
    "# model.add(Dense(256, activation='relu'))\n",
    "\n",
    "model.add(Dense(2, activation='sigmoid'))\n",
    "\n",
    "model.compile(\n",
    "    loss='binary_crossentropy',\n",
    "    optimizer='rmsprop',\n",
    "    metrics=['accuracy']\n",
    ")"
   ]
  },
  {
   "cell_type": "code",
   "execution_count": 70,
   "metadata": {},
   "outputs": [
    {
     "name": "stdout",
     "output_type": "stream",
     "text": [
      "Train on 4799 samples, validate on 874 samples\n",
      "Epoch 1/30\n",
      " - 0s - loss: 0.2967 - accuracy: 0.9039 - val_loss: 0.2837 - val_accuracy: 0.9090\n",
      "Epoch 2/30\n",
      " - 0s - loss: 0.2236 - accuracy: 0.9309 - val_loss: 0.2573 - val_accuracy: 0.9262\n",
      "Epoch 3/30\n",
      " - 0s - loss: 0.2101 - accuracy: 0.9318 - val_loss: 0.2445 - val_accuracy: 0.9268\n",
      "Epoch 4/30\n",
      " - 0s - loss: 0.2010 - accuracy: 0.9354 - val_loss: 0.2295 - val_accuracy: 0.9279\n",
      "Epoch 5/30\n",
      " - 0s - loss: 0.1911 - accuracy: 0.9377 - val_loss: 0.2274 - val_accuracy: 0.9245\n",
      "Epoch 6/30\n",
      " - 0s - loss: 0.1915 - accuracy: 0.9375 - val_loss: 0.2282 - val_accuracy: 0.9285\n",
      "Epoch 7/30\n",
      " - 0s - loss: 0.1842 - accuracy: 0.9390 - val_loss: 0.2110 - val_accuracy: 0.9302\n",
      "Epoch 8/30\n",
      " - 0s - loss: 0.1801 - accuracy: 0.9393 - val_loss: 0.2100 - val_accuracy: 0.9325\n",
      "Epoch 9/30\n",
      " - 0s - loss: 0.1773 - accuracy: 0.9427 - val_loss: 0.2268 - val_accuracy: 0.9331\n",
      "Epoch 10/30\n",
      " - 0s - loss: 0.1723 - accuracy: 0.9421 - val_loss: 0.2309 - val_accuracy: 0.9308\n",
      "Epoch 11/30\n",
      " - 0s - loss: 0.1691 - accuracy: 0.9426 - val_loss: 0.2371 - val_accuracy: 0.9296\n",
      "Epoch 12/30\n",
      " - 0s - loss: 0.1680 - accuracy: 0.9450 - val_loss: 0.2097 - val_accuracy: 0.9239\n",
      "Epoch 13/30\n",
      " - 0s - loss: 0.1636 - accuracy: 0.9436 - val_loss: 0.2042 - val_accuracy: 0.9268\n",
      "Epoch 14/30\n",
      " - 0s - loss: 0.1584 - accuracy: 0.9432 - val_loss: 0.2145 - val_accuracy: 0.9256\n",
      "Epoch 15/30\n",
      " - 0s - loss: 0.1578 - accuracy: 0.9442 - val_loss: 0.2280 - val_accuracy: 0.9376\n",
      "Epoch 16/30\n",
      " - 0s - loss: 0.1555 - accuracy: 0.9478 - val_loss: 0.2261 - val_accuracy: 0.9342\n",
      "Epoch 17/30\n",
      " - 0s - loss: 0.1512 - accuracy: 0.9482 - val_loss: 0.2141 - val_accuracy: 0.9342\n",
      "Epoch 18/30\n",
      " - 0s - loss: 0.1551 - accuracy: 0.9486 - val_loss: 0.2256 - val_accuracy: 0.9279\n",
      "Epoch 19/30\n",
      " - 0s - loss: 0.1516 - accuracy: 0.9469 - val_loss: 0.2183 - val_accuracy: 0.9308\n",
      "Epoch 20/30\n",
      " - 0s - loss: 0.1501 - accuracy: 0.9492 - val_loss: 0.2071 - val_accuracy: 0.9296\n",
      "Epoch 21/30\n",
      " - 0s - loss: 0.1454 - accuracy: 0.9476 - val_loss: 0.2129 - val_accuracy: 0.9354\n",
      "Epoch 22/30\n",
      " - 0s - loss: 0.1405 - accuracy: 0.9523 - val_loss: 0.2492 - val_accuracy: 0.9262\n",
      "Epoch 23/30\n",
      " - 0s - loss: 0.1432 - accuracy: 0.9491 - val_loss: 0.2206 - val_accuracy: 0.9342\n",
      "Epoch 24/30\n",
      " - 0s - loss: 0.1392 - accuracy: 0.9504 - val_loss: 0.2153 - val_accuracy: 0.9296\n",
      "Epoch 25/30\n",
      " - 0s - loss: 0.1380 - accuracy: 0.9529 - val_loss: 0.2224 - val_accuracy: 0.9279\n",
      "Epoch 26/30\n",
      " - 0s - loss: 0.1360 - accuracy: 0.9496 - val_loss: 0.2193 - val_accuracy: 0.9308\n",
      "Epoch 27/30\n",
      " - 0s - loss: 0.1316 - accuracy: 0.9535 - val_loss: 0.2189 - val_accuracy: 0.9302\n",
      "Epoch 28/30\n",
      " - 0s - loss: 0.1318 - accuracy: 0.9523 - val_loss: 0.2443 - val_accuracy: 0.9348\n",
      "Epoch 29/30\n",
      " - 0s - loss: 0.1326 - accuracy: 0.9536 - val_loss: 0.2303 - val_accuracy: 0.9291\n",
      "Epoch 30/30\n",
      " - 0s - loss: 0.1302 - accuracy: 0.9545 - val_loss: 0.2229 - val_accuracy: 0.9325\n"
     ]
    }
   ],
   "source": [
    "#모델 학습시키기\n",
    "hist = model.fit(x_train, y_train, epochs=30, \n",
    "                 batch_size=128, validation_data=(x_test, y_test),verbose=2)"
   ]
  },
  {
   "cell_type": "code",
   "execution_count": 71,
   "metadata": {},
   "outputs": [
    {
     "data": {
      "image/png": "[encoded data removed]",
      "text/plain": [
       "<Figure size 432x288 with 1 Axes>"
      ]
     },
     "metadata": {
      "needs_background": "light"
     },
     "output_type": "display_data"
    }
   ],
   "source": [
    "import matplotlib.pyplot as plt\n",
    "acc = hist.history['accuracy']\n",
    "val_acc = hist.history['val_accuracy']\n",
    "loss = hist.history['loss']\n",
    "val_loss = hist.history['val_loss']\n",
    "\n",
    "epochs = range(1, len(acc) + 1)\n",
    "\n",
    "plt.plot(epochs, loss, 'bo', label='Training loss')\n",
    "\n",
    "plt.plot(epochs, val_loss, 'b', label='Validation loss')\n",
    "plt.title('Training and validation loss')\n",
    "plt.xlabel('Epochs')\n",
    "plt.ylabel('Loss')\n",
    "plt.legend()\n",
    "\n",
    "plt.draw()\n",
    "# fig1 = plt.gcf()\n",
    "plt.show()\n",
    "# fig1.savefig('fig1.png', dpi=100)"
   ]
  },
  {
   "cell_type": "code",
   "execution_count": 72,
   "metadata": {},
   "outputs": [
    {
     "data": {
      "image/png": "[encoded data removed]",
      "text/plain": [
       "<Figure size 432x288 with 1 Axes>"
      ]
     },
     "metadata": {
      "needs_background": "light"
     },
     "output_type": "display_data"
    }
   ],
   "source": [
    "plt.clf()   # 그래프를 초기화합니다\n",
    "\n",
    "plt.plot(epochs, acc, 'bo', label='Training acc')\n",
    "plt.plot(epochs, val_acc, 'b', label='Validation acc')\n",
    "plt.title('Training and validation accuracy')\n",
    "plt.xlabel('Epochs')\n",
    "plt.ylabel('Accuracy')\n",
    "plt.legend()\n",
    "\n",
    "fig2 = plt.gcf()\n",
    "\n",
    "plt.draw()"
   ]
  },
  {
   "cell_type": "code",
   "execution_count": 73,
   "metadata": {},
   "outputs": [],
   "source": [
    "dat=pd.read_csv('normal_train.csv')\n",
    "\n",
    "# dat.drop(['Unnamed: 0'], axis=1, inplace=True)\n",
    "# print(dat)\n",
    "X = dat.to_numpy()\n",
    "X = scaler.transform(X)\n",
    "xhat = X[0:1]\n",
    "res = {\n",
    "    \"total\":len(X),\n",
    "    \"safe\":0,\n",
    "    \"emergency\":0\n",
    "}\n",
    "for i in range(0,len(X)):\n",
    "    yhat = model.predict_classes(X[i:i+1])\n",
    "    if yhat == [0]:\n",
    "        res[\"safe\"]+=1\n",
    "    else :\n",
    "        res[\"emergency\"]+=1\n"
   ]
  },
  {
   "cell_type": "code",
   "execution_count": 74,
   "metadata": {},
   "outputs": [
    {
     "name": "stdout",
     "output_type": "stream",
     "text": [
      "{'total': 6303, 'safe': 5882, 'emergency': 421}\n",
      "safe: 93.32064096462003%\n"
     ]
    }
   ],
   "source": [
    "print(res)\n",
    "print(\"safe: \"+str(float(res[\"safe\"])/float(res[\"total\"])*100)+\"%\")"
   ]
  },
  {
   "cell_type": "code",
   "execution_count": 33,
   "metadata": {},
   "outputs": [],
   "source": [
    "model_json = model.to_json()\n",
    "with open(\"model.json\", \"w\") as json_file : \n",
    "    json_file.write(model_json)"
   ]
  },
  {
   "cell_type": "code",
   "execution_count": 10,
   "metadata": {},
   "outputs": [],
   "source": [
    "model.save(\"eeg_model3.h5\")"
   ]
  },
  {
   "cell_type": "code",
   "execution_count": 11,
   "metadata": {},
   "outputs": [
    {
     "name": "stderr",
     "output_type": "stream",
     "text": [
      "C:\\Users\\HAYOUNG LEE\\Anaconda3\\lib\\site-packages\\sklearn\\externals\\joblib\\__init__.py:15: DeprecationWarning: sklearn.externals.joblib is deprecated in 0.21 and will be removed in 0.23. Please import this functionality directly from joblib, which can be installed with: pip install joblib. If this warning is raised when loading pickled models, you may need to re-serialize those models with scikit-learn 0.21+.\n",
      "  warnings.warn(msg, category=DeprecationWarning)\n"
     ]
    },
    {
     "data": {
      "text/plain": [
       "['robust_scaler2.pkl']"
      ]
     },
     "execution_count": 11,
     "metadata": {},
     "output_type": "execute_result"
    }
   ],
   "source": [
    "from sklearn.externals import joblib \n",
    "# 객체를 pickled binary file 형태로 저장한다 \n",
    "file_name = 'robust_scaler2.pkl' \n",
    "joblib.dump(scaler, file_name) "
   ]
  },
  {
   "cell_type": "code",
   "execution_count": null,
   "metadata": {},
   "outputs": [],
   "source": []
  }
 ],
 "metadata": {
  "kernelspec": {
   "display_name": "Python 3",
   "language": "python",
   "name": "python3"
  },
  "language_info": {
   "codemirror_mode": {
    "name": "ipython",
    "version": 3
   },
   "file_extension": ".py",
   "mimetype": "text/x-python",
   "name": "python",
   "nbconvert_exporter": "python",
   "pygments_lexer": "ipython3",
   "version": "3.6.9"
  }
 },
 "nbformat": 4,
 "nbformat_minor": 4
}
